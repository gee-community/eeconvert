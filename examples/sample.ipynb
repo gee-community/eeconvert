{
 "cells": [
  {
   "cell_type": "code",
   "execution_count": 30,
   "metadata": {
    "collapsed": true
   },
   "outputs": [],
   "source": [
    "import eeconvert\n",
    "import ee\n",
    "import geopandas as gpd\n",
    "ee.Initialize()\n",
    "fc = ee.FeatureCollection(\"USDOS/LSIB_SIMPLE/2017\");\n",
    "fcEu = fc.filter(ee.Filter.eq(\"wld_rgn\",\"Europe\"))\n",
    "fcTest = fcEu.filter(ee.Filter.inList(\"country_co\",[\"PO\",\"NL\"]))\n",
    "gdf =eeconvert.fcToGdf(fcTest)"
   ]
  }
 ],
 "metadata": {
  "kernelspec": {
   "display_name": "Python 35",
   "language": "python",
   "name": "python35"
  },
  "language_info": {
   "codemirror_mode": {
    "name": "ipython",
    "version": 3
   },
   "file_extension": ".py",
   "mimetype": "text/x-python",
   "name": "python",
   "nbconvert_exporter": "python",
   "pygments_lexer": "ipython3",
   "version": "3.5.4"
  }
 },
 "nbformat": 4,
 "nbformat_minor": 2
}
